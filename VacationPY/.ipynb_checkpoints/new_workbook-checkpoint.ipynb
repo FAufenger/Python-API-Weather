{
 "cells": [
  {
   "cell_type": "code",
   "execution_count": 1,
   "metadata": {},
   "outputs": [
    {
     "data": {
      "application/vnd.jupyter.widget-view+json": {
       "model_id": "63a24dc8609e4f41a6b3b4a8682022e9",
       "version_major": 2,
       "version_minor": 0
      },
      "text/plain": [
       "Figure(layout=FigureLayout(height='420px'))"
      ]
     },
     "metadata": {},
     "output_type": "display_data"
    }
   ],
   "source": [
    "import gmaps\n",
    "import gmaps.datasets\n",
    "\n",
    "# Import API key\n",
    "my_api_code_source = open('/Users/Richa/Desktop/google_api_key.py') \n",
    "google_api_key = my_api_code_source.read()\n",
    "\n",
    "gmaps.configure(api_key='google_api_key') # Fill in with your API key\n",
    "\n",
    "earthquake_df = gmaps.datasets.load_dataset_as_df('earthquakes')\n",
    "earthquake_df.head()\n",
    "\n",
    "locations = earthquake_df[['latitude', 'longitude']]\n",
    "weights = earthquake_df['magnitude']\n",
    "fig = gmaps.figure()\n",
    "fig.add_layer(gmaps.heatmap_layer(locations, weights=weights))\n",
    "fig"
   ]
  },
  {
   "cell_type": "code",
   "execution_count": null,
   "metadata": {},
   "outputs": [],
   "source": []
  }
 ],
 "metadata": {
  "kernelspec": {
   "display_name": "Python [conda env:PythonData] *",
   "language": "python",
   "name": "conda-env-PythonData-py"
  },
  "language_info": {
   "codemirror_mode": {
    "name": "ipython",
    "version": 3
   },
   "file_extension": ".py",
   "mimetype": "text/x-python",
   "name": "python",
   "nbconvert_exporter": "python",
   "pygments_lexer": "ipython3",
   "version": "3.6.10"
  }
 },
 "nbformat": 4,
 "nbformat_minor": 4
}
